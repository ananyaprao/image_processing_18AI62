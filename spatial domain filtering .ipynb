{
 "cells": [
  {
   "cell_type": "code",
   "execution_count": 1,
   "id": "5601e5eb",
   "metadata": {},
   "outputs": [],
   "source": [
    "import cv2 as cv\n",
    "import numpy as np\n",
    "\n",
    "def padding(originalImg, padSize):\n",
    "    padImg = np.zeros((rows+2*padSize, columns+2*padSize), dtype=np.uint8)\n",
    "    # Using Splicing\n",
    "    padImg[padSize:rows+padSize, padSize:columns+padSize] = originalImg\n",
    "    return padImg\n",
    "\n",
    "def MinFiltering(padImg, size):\n",
    "    output = np.zeros((rows, columns), dtype=np.uint8)\n",
    "    for i in range(0, rows):\n",
    "        for j in range(0, columns):\n",
    "            # using Splicing\n",
    "            portion = padImg[i:i+size, j:j+size]\n",
    "            # Converting Matrix to Array\n",
    "            array1 = portion.flatten()\n",
    "            Minv = np.min(array1)\n",
    "            output[i][j] = Minv\n",
    "    return output\n",
    "\n",
    "def MaxFiltering(padImg, size):\n",
    "    output = np.zeros((rows, columns), dtype=np.uint8)\n",
    "    for i in range(0, rows):\n",
    "        for j in range(0, columns):\n",
    "            # using Splicing\n",
    "            portion = padImg[i:i+size, j:j+size]\n",
    "            # Converting Matrix to Array\n",
    "            array1 = portion.flatten()\n",
    "            Maxv = np.max(array1)\n",
    "            output[i][j] = Maxv\n",
    "    return output\n",
    "\n",
    "def MedianFiltering(padImg, size):\n",
    "    output = np.zeros((rows, columns), dtype=np.uint8)\n",
    "    for i in range(0, rows):\n",
    "        for j in range(0, columns):\n",
    "            # using Splicing\n",
    "            portion = padImg[i:i+size, j:j+size]\n",
    "            # Converting Matrix to Array\n",
    "            array1 = portion.flatten()\n",
    "            medianv = np.lib.median(array1)\n",
    "            output[i][j] = medianv\n",
    "    return output\n",
    "\n",
    "def MeanFiltering(padImg, size):\n",
    "    output = np.zeros((rows, columns), dtype=np.uint8)\n",
    "    for i in range(0, rows):\n",
    "        for j in range(0, columns):\n",
    "            # using Splicing\n",
    "            portion = padImg[i:i+size, j:j+size]\n",
    "            # Converting Matrix to Array\n",
    "            array1 = portion.flatten()\n",
    "            meanv = np.mean(array1)\n",
    "            output[i][j] = meanv\n",
    "    return output\n",
    "\n"
   ]
  },
  {
   "cell_type": "code",
   "execution_count": null,
   "id": "ef0307ec",
   "metadata": {},
   "outputs": [
    {
     "name": "stdout",
     "output_type": "stream",
     "text": [
      "enter portion size: 400\n"
     ]
    }
   ],
   "source": [
    "# Taking input of Mask size\n",
    "size = int(input('enter portion size: '))\n",
    "# padding size\n",
    "p_size = size//2\n",
    "# image reading\n",
    "orginalImg = cv.imread(r\"C:\\Users\\SAHYADRI\\Pictures\\Saved Pictures\\small-magellanic-cloud.jpg\", 0)\n",
    "# getting size of image\n",
    "rows = orginalImg.shape[0]\n",
    "columns = orginalImg.shape[1]\n",
    "# padding function call\n",
    "padImg = padding(orginalImg, p_size)\n",
    "# Max Function call\n",
    "maxFilImg = MaxFiltering(padImg, size)\n",
    "# Min Function call\n",
    "minFilImg = MinFiltering(padImg, size)\n",
    "# Median Function call\n",
    "medianFilImg = MedianFiltering(padImg, size)\n",
    "# Mean Function call\n",
    "meanFilImg = MeanFiltering(padImg, size)\n",
    "# Image Show\n",
    "cv.imshow('Max Filtered Image', maxFilImg)\n",
    "cv.waitKey(0)\n",
    "cv.imshow('Min Filtered Image', minFilImg)\n",
    "cv.waitKey(0)\n",
    "cv.imshow('Median Filtered Image', medianFilImg)\n",
    "cv.waitKey(0)\n",
    "cv.imshow('Mean Filtered Image', meanFilImg)\n",
    "cv.waitKey(0)\n",
    "cv.imwrite('HomeTask02Max.jpg', maxFilImg)\n",
    "cv.imwrite('HomeTask02Min.jpg', minFilImg)\n",
    "cv.imwrite('HomeTask02Median.jpg', medianFilImg)\n",
    "cv.imwrite('HomeTask02Mean.jpg', meanFilImg)"
   ]
  },
  {
   "cell_type": "code",
   "execution_count": null,
   "id": "de9adf2a",
   "metadata": {},
   "outputs": [],
   "source": []
  }
 ],
 "metadata": {
  "kernelspec": {
   "display_name": "Python 3 (ipykernel)",
   "language": "python",
   "name": "python3"
  },
  "language_info": {
   "codemirror_mode": {
    "name": "ipython",
    "version": 3
   },
   "file_extension": ".py",
   "mimetype": "text/x-python",
   "name": "python",
   "nbconvert_exporter": "python",
   "pygments_lexer": "ipython3",
   "version": "3.9.12"
  }
 },
 "nbformat": 4,
 "nbformat_minor": 5
}
